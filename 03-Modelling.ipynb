{
 "cells": [
  {
   "cell_type": "markdown",
   "id": "7daa0a69-f847-4904-af2a-fd8d9e87dbcc",
   "metadata": {},
   "source": [
    "# Project 3: Web APIs & NLP\n",
    "### Notebook 03 - Modeling\n",
    "\n",
    "\n",
    "_Author: Joe Serigano (jserigano4@gmail.com)_\n",
    "\n",
    "---\n",
    "\n",
    "**Objectives:**\n",
    "- Create NLP models to predict original subreddit of a post title from our cleaned data.\n",
    "- Determine best fitting parameters for each model using GridSearchCV.\n",
    "- Save best-fitting parameters and results for each model to a DataFrame."
   ]
  },
  {
   "cell_type": "code",
   "execution_count": 1,
   "id": "26eae5f6-8a94-4eac-a48d-1ead1ab80534",
   "metadata": {},
   "outputs": [],
   "source": [
    "# Import libaries\n",
    "import matplotlib.pyplot as plt\n",
    "import pandas as pd\n",
    "import seaborn as sns\n",
    "import numpy as np\n",
    "\n",
    "from sklearn.feature_extraction.text import CountVectorizer, TfidfVectorizer\n",
    "from nltk.stem import WordNetLemmatizer\n",
    "from nltk.stem.porter import PorterStemmer\n",
    "from nltk.corpus import stopwords\n",
    "from sklearn.pipeline import Pipeline\n",
    "from sklearn.ensemble import GradientBoostingClassifier, AdaBoostClassifier, VotingClassifier\n",
    "from sklearn.model_selection import train_test_split, GridSearchCV\n",
    "from sklearn.ensemble import RandomForestClassifier, ExtraTreesClassifier\n",
    "from sklearn.preprocessing import StandardScaler\n",
    "from sklearn.neighbors import KNeighborsClassifier\n",
    "from sklearn.naive_bayes import MultinomialNB\n",
    "from sklearn.linear_model import LogisticRegression\n",
    "from sklearn.metrics import confusion_matrix, plot_confusion_matrix, classification_report, ConfusionMatrixDisplay, f1_score\n",
    "\n",
    "# We are dealing with large data sets, so setting max number of column and row displays to be unlimited\n",
    "pd.set_option('display.max_columns', None)\n",
    "pd.set_option('display.max_rows', None)\n",
    "\n",
    "import warnings\n",
    "warnings.simplefilter(\"ignore\")"
   ]
  },
  {
   "cell_type": "code",
   "execution_count": 2,
   "id": "b4594355-5a28-49e3-9eaa-b52723313b87",
   "metadata": {},
   "outputs": [],
   "source": [
    "# Reading in the cleaned data\n",
    "df = pd.read_csv('data/protips_cleaned.csv')"
   ]
  },
  {
   "cell_type": "code",
   "execution_count": 3,
   "id": "c174e764-9a59-45f6-bf55-df922568970c",
   "metadata": {},
   "outputs": [
    {
     "data": {
      "text/html": [
       "<div>\n",
       "<style scoped>\n",
       "    .dataframe tbody tr th:only-of-type {\n",
       "        vertical-align: middle;\n",
       "    }\n",
       "\n",
       "    .dataframe tbody tr th {\n",
       "        vertical-align: top;\n",
       "    }\n",
       "\n",
       "    .dataframe thead th {\n",
       "        text-align: right;\n",
       "    }\n",
       "</style>\n",
       "<table border=\"1\" class=\"dataframe\">\n",
       "  <thead>\n",
       "    <tr style=\"text-align: right;\">\n",
       "      <th></th>\n",
       "      <th>subreddit</th>\n",
       "      <th>title</th>\n",
       "      <th>title_word_count</th>\n",
       "      <th>title_clean</th>\n",
       "    </tr>\n",
       "  </thead>\n",
       "  <tbody>\n",
       "    <tr>\n",
       "      <th>0</th>\n",
       "      <td>1</td>\n",
       "      <td>If you are as outraged as I am about the overt...</td>\n",
       "      <td>24</td>\n",
       "      <td>If outraged I overturning Roe v Wade, join mak...</td>\n",
       "    </tr>\n",
       "    <tr>\n",
       "      <th>1</th>\n",
       "      <td>1</td>\n",
       "      <td>Doing things when you don't want to do them is...</td>\n",
       "      <td>32</td>\n",
       "      <td>Doing things want skill practice, take advanta...</td>\n",
       "    </tr>\n",
       "    <tr>\n",
       "      <th>2</th>\n",
       "      <td>1</td>\n",
       "      <td>Dedicate a credit card to only subscription se...</td>\n",
       "      <td>21</td>\n",
       "      <td>Dedicate credit card subscription services. If...</td>\n",
       "    </tr>\n",
       "    <tr>\n",
       "      <th>3</th>\n",
       "      <td>1</td>\n",
       "      <td>Like to have a flutter but gambling is too exp...</td>\n",
       "      <td>12</td>\n",
       "      <td>Like flutter gambling expensive? Try ‘micro-ga...</td>\n",
       "    </tr>\n",
       "    <tr>\n",
       "      <th>4</th>\n",
       "      <td>1</td>\n",
       "      <td>Enraged by RvW and feeling powerless? Consider...</td>\n",
       "      <td>21</td>\n",
       "      <td>Enraged RvW feeling powerless? Consider joinin...</td>\n",
       "    </tr>\n",
       "  </tbody>\n",
       "</table>\n",
       "</div>"
      ],
      "text/plain": [
       "   subreddit                                              title  \\\n",
       "0          1  If you are as outraged as I am about the overt...   \n",
       "1          1  Doing things when you don't want to do them is...   \n",
       "2          1  Dedicate a credit card to only subscription se...   \n",
       "3          1  Like to have a flutter but gambling is too exp...   \n",
       "4          1  Enraged by RvW and feeling powerless? Consider...   \n",
       "\n",
       "   title_word_count                                        title_clean  \n",
       "0                24  If outraged I overturning Roe v Wade, join mak...  \n",
       "1                32  Doing things want skill practice, take advanta...  \n",
       "2                21  Dedicate credit card subscription services. If...  \n",
       "3                12  Like flutter gambling expensive? Try ‘micro-ga...  \n",
       "4                21  Enraged RvW feeling powerless? Consider joinin...  "
      ]
     },
     "execution_count": 3,
     "metadata": {},
     "output_type": "execute_result"
    }
   ],
   "source": [
    "df.head()"
   ]
  },
  {
   "cell_type": "markdown",
   "id": "2453ad3c-8dd5-4536-aa55-f4f4f4cf7d31",
   "metadata": {},
   "source": [
    "We will be using a parameter grid to find the optimal model. This will include vectorizing the features using CountVectorizer() and TfidfVectorizer() with cleaned data, lemmatized data, and stemmed data. The functions below, which we used in the previous notebook, will be used in our modeling to handle this. "
   ]
  },
  {
   "cell_type": "code",
   "execution_count": 4,
   "id": "d353dd39-0e1c-43b7-8bd8-e6572b2cb8eb",
   "metadata": {},
   "outputs": [],
   "source": [
    "# Function for lemmatizing\n",
    "def lemmatize_title(title):\n",
    "\n",
    "    # split into words\n",
    "    split_title = title.split()\n",
    "\n",
    "    # instantiate lemmatizer\n",
    "    lemmatizer = WordNetLemmatizer()\n",
    "\n",
    "    # lemmatize and rejoin\n",
    "    return ' '.join([lemmatizer.lemmatize(word) for word in split_title])"
   ]
  },
  {
   "cell_type": "code",
   "execution_count": 5,
   "id": "70f4d1cc-86a1-46e4-9f84-f56f05832810",
   "metadata": {},
   "outputs": [],
   "source": [
    "def stem_title(title):\n",
    "\n",
    "    # split into words\n",
    "    split_title = title.split()\n",
    "    \n",
    "    # instantiate stemmer\n",
    "    stemmer = PorterStemmer()\n",
    "\n",
    "    # stem and rejoin\n",
    "    return ' '.join([stemmer.stem(word) for word in split_title])"
   ]
  },
  {
   "cell_type": "markdown",
   "id": "33368170-b966-4cb8-8af0-090645cf9c7b",
   "metadata": {},
   "source": [
    "## Baseline model:\n",
    "\n",
    "Our baseline model accuracy is the probability that a given post will come from our target subreddit, r/LifeProTips. Our baseline accuracy is 50.5% in this case. Hopefully we will be able to create some models that score better than this!"
   ]
  },
  {
   "cell_type": "code",
   "execution_count": 6,
   "id": "c81bcd85-fc5b-4a7d-b180-79884d42d87c",
   "metadata": {},
   "outputs": [
    {
     "data": {
      "text/plain": [
       "1    0.504693\n",
       "0    0.495307\n",
       "Name: subreddit, dtype: float64"
      ]
     },
     "execution_count": 6,
     "metadata": {},
     "output_type": "execute_result"
    }
   ],
   "source": [
    "df['subreddit'].value_counts(normalize = True)"
   ]
  },
  {
   "cell_type": "markdown",
   "id": "e20f9665-56a2-4c08-a078-70aa4dd9aa27",
   "metadata": {},
   "source": [
    "## Modelling:\n",
    "\n",
    "Next, we will split our data into our features (X) and our target (y) variables and perform a train/test split. "
   ]
  },
  {
   "cell_type": "code",
   "execution_count": 7,
   "id": "6dff49b1-6a55-4128-a157-79222a042af0",
   "metadata": {},
   "outputs": [],
   "source": [
    "X = df['title_clean']\n",
    "y = df['subreddit']\n",
    "\n",
    "X_train, X_test, y_train, y_test = train_test_split(X, y, random_state = 42, stratify = y)"
   ]
  },
  {
   "cell_type": "code",
   "execution_count": 34,
   "id": "88b495d0-d6ea-4fb8-a2ad-71c270a41bc0",
   "metadata": {},
   "outputs": [
    {
     "name": "stdout",
     "output_type": "stream",
     "text": [
      "(15502,)\n",
      "(5168,)\n"
     ]
    }
   ],
   "source": [
    "print(y_train.shape)\n",
    "print(y_test.shape)"
   ]
  },
  {
   "cell_type": "markdown",
   "id": "f6f0a151-2be1-4a7d-b703-ac9b0434a850",
   "metadata": {},
   "source": [
    "We will create a function to make it easier to run many different models with different combinations of vectorizers and estimators.\n",
    "\n",
    "First, we will define the parameters to be used for each."
   ]
  },
  {
   "cell_type": "code",
   "execution_count": 8,
   "id": "b3f81b02-9244-4ba1-b737-a84f38c5c3d4",
   "metadata": {},
   "outputs": [],
   "source": [
    "# Vectorizer parameters:\n",
    "\n",
    "cvec_params = {\n",
    "    'cvec__preprocessor' : [None, lemmatize_title, stem_title],\n",
    "    'cvec__max_features': [None, 5_000],\n",
    "    'cvec__max_df': [0.5, 0.9],\n",
    "    'cvec__ngram_range':[(1,1), (1,2)],\n",
    "}\n",
    "\n",
    "tvec_params = {\n",
    "    'tvec__preprocessor' : [None, lemmatize_title, stem_title],\n",
    "    'tvec__max_features': [None, 5_000],\n",
    "    'tvec__max_df': [0.5, 0.9],\n",
    "    'tvec__ngram_range':[(1,1), (1,2)]\n",
    "}"
   ]
  },
  {
   "cell_type": "code",
   "execution_count": 10,
   "id": "c4a1a367-fb20-469d-bf64-e3c03168b849",
   "metadata": {},
   "outputs": [],
   "source": [
    "# Model parameters:\n",
    "\n",
    "lr_params = {\n",
    "    'lr__penalty':['l1','l2'],\n",
    "    'lr__C':[0.1, 1, 10],\n",
    "}\n",
    "\n",
    "knn_params = {'knn__n_neighbors': [3, 5, 7],\n",
    "              'knn__weights': ['uniform', 'distance']}\n",
    "\n",
    "nb_params = {\n",
    "    'nb__alpha': [0.1, 1, 10]\n",
    "}\n",
    "\n",
    "rf_params = {\n",
    "    'rf__n_estimators': [100, 150],\n",
    "    'rf__max_depth': [None, 5],\n",
    "    'rf__min_samples_leaf': [1, 5]\n",
    "}\n",
    "\n",
    "ada_params = {\n",
    "    'ada__n_estimators': [50, 100],\n",
    "    'ada__learning_rate': [0.5, 1.0]\n",
    "}\n",
    "\n",
    "gb_params = {\n",
    "    'gb__max_depth': [3, 4],\n",
    "    'gb__n_estimators': [100, 200],\n",
    "    'gb__learning_rate': [0.5, 1.0]\n",
    "}"
   ]
  },
  {
   "cell_type": "code",
   "execution_count": 11,
   "id": "ba0c1c54-824e-4f69-b257-dba79d327e4a",
   "metadata": {},
   "outputs": [],
   "source": [
    "def NLP_model(vec_inst, vectorizer, mod_inst, model, vec_params, mod_params):\n",
    "    '''\n",
    "    Function to run NLP model given vectorizer, estimator, and parameters for GridSearchCV. \n",
    "    This function will:\n",
    "    - Use vectorizer to transform input data\n",
    "    - Fit training data with model\n",
    "    - Generate model predictions\n",
    "    - Evaluate model performance with various metrics\n",
    "    - Print classification report and plot confusion matrix\n",
    "    - Output metric results to DataFrame\n",
    "    **************\n",
    "    Input params:\n",
    "    vec_inst: String of vectorizer abbreviation\n",
    "    vectorizer: Vectorizer to use with GridsearchCV model\n",
    "    mod_inst: String of model abbreviation\n",
    "    model: Estimator to use with GridsearchCV model  \n",
    "    vec_params: Parameters to use for vectorizer\n",
    "    mod_params: Parameters to use for estimator\n",
    "    **************\n",
    "    '''\n",
    "    pipe = Pipeline([\n",
    "        (vec_inst, vectorizer),\n",
    "        (mod_inst, model)])\n",
    "    \n",
    "    gs = GridSearchCV(pipe, param_grid = {**vec_params, **mod_params})\n",
    "    gs.fit(X_train, y_train)\n",
    "    \n",
    "    print('*'*80)\n",
    "    print(f'MODEL = {model}, VECTORIZER = {vectorizer}')\n",
    "    print('*'*80)\n",
    "    print(f'Best fitting parameters: {gs.best_params_}\\n')\n",
    "    print(f'Best score: {round(gs.best_score_, 3)}')\n",
    "    print(f'Test score: {round(gs.score(X_test, y_test), 3)}\\n')\n",
    "    \n",
    "    # Get predictions\n",
    "    preds = gs.predict(X_test)\n",
    "    \n",
    "    print('Classification report:')\n",
    "    print(classification_report(y_test, preds))\n",
    "    \n",
    "    tn, fp, fn, tp = confusion_matrix(y_test, preds).ravel()\n",
    "    plot_confusion_matrix(gs, X_test, y_test, cmap='Blues', values_format='d');\n",
    "    \n",
    "    # Save best model results to Dataframe\n",
    "    df = pd.DataFrame()\n",
    "    df['model_vec'] = [f'{mod_inst}_{vec_inst}']\n",
    "    df['best_params'] = [gs.best_params_]\n",
    "    df['train_score'] = gs.best_score_\n",
    "    df['test_score'] = gs.score(X_test, y_test)\n",
    "    df['sensitivity'] =  tp / (tp + fn)\n",
    "    df['specificity'] = tn / (tn + fp)\n",
    "    df['precision'] = tp / (tp + fp)\n",
    "    df['f1_score'] = f1_score(y_test, preds)\n",
    "    df['tn'] = tn\n",
    "    df['fp'] = fp\n",
    "    df['fn'] = fn\n",
    "    df['tp'] = tp\n",
    "    \n",
    "    return df"
   ]
  },
  {
   "cell_type": "code",
   "execution_count": 12,
   "id": "09479786-ac49-4976-99a7-b88d99249940",
   "metadata": {},
   "outputs": [],
   "source": [
    "# Define list of DataFrames to save all best model outputs\n",
    "df_all = []"
   ]
  },
  {
   "cell_type": "markdown",
   "id": "45cda4e3-29eb-413f-8686-bfccf006062b",
   "metadata": {},
   "source": [
    "We will use GridSearchCV to find the best parameter values for each combination of vectorizer and estimator.\n",
    "\n",
    "We will use the vectorizers CounterVectorizer(), Tfidfvectorizer() with preprocessing parameters that include (among others) tokenized, lemmatized, and stemmed versions of the features.\n",
    "\n",
    "We will use the estimators LogisticRegression(), KNeighborsClassifier(), MultinomialNB(), RandomForestClassifier(), AdaBoostClassifier(), GradientBoostingClassifier().\n",
    "\n",
    "All together there will be 12 models. We will run them below and print some results. The results of the best fitting model for each grid search will be saved to a DataFrame."
   ]
  },
  {
   "cell_type": "markdown",
   "id": "ab243257-414f-436e-b039-7bbb80f464f7",
   "metadata": {},
   "source": [
    "## 1. LogisticRegression(), CountVectorizer():"
   ]
  },
  {
   "cell_type": "code",
   "execution_count": 13,
   "id": "22c1a02b-977c-440c-8781-4ac146262733",
   "metadata": {},
   "outputs": [
    {
     "name": "stdout",
     "output_type": "stream",
     "text": [
      "********************************************************************************\n",
      "MODEL = LogisticRegression(), VECTORIZER = CountVectorizer()\n",
      "********************************************************************************\n",
      "Best fitting parameters: {'cvec__max_df': 0.5, 'cvec__max_features': None, 'cvec__ngram_range': (1, 2), 'cvec__preprocessor': None, 'lr__C': 1, 'lr__penalty': 'l2'}\n",
      "\n",
      "Best score: 0.742\n",
      "Test score: 0.753\n",
      "\n",
      "Classification report:\n",
      "              precision    recall  f1-score   support\n",
      "\n",
      "           0       0.75      0.76      0.75      2560\n",
      "           1       0.76      0.75      0.75      2608\n",
      "\n",
      "    accuracy                           0.75      5168\n",
      "   macro avg       0.75      0.75      0.75      5168\n",
      "weighted avg       0.75      0.75      0.75      5168\n",
      "\n"
     ]
    },
    {
     "data": {
      "image/png": "[encoded data removed]",
      "text/plain": [
       "<Figure size 432x288 with 2 Axes>"
      ]
     },
     "metadata": {
      "needs_background": "light"
     },
     "output_type": "display_data"
    }
   ],
   "source": [
    "lr_cvec = NLP_model('cvec', CountVectorizer(), 'lr', LogisticRegression(), cvec_params, lr_params)\n",
    "lr_cvec.head().T\n",
    "\n",
    "df_all.append(lr_cvec)"
   ]
  },
  {
   "cell_type": "markdown",
   "id": "d0414958-d438-448d-9647-d2f1d835c275",
   "metadata": {},
   "source": [
    "## 2. LogisticRegression(), TfidfVectorizer()"
   ]
  },
  {
   "cell_type": "code",
   "execution_count": 14,
   "id": "ae0d44cd-59bf-4e2a-9331-cc6579e0884f",
   "metadata": {},
   "outputs": [
    {
     "name": "stdout",
     "output_type": "stream",
     "text": [
      "********************************************************************************\n",
      "MODEL = LogisticRegression(), VECTORIZER = TfidfVectorizer()\n",
      "********************************************************************************\n",
      "Best fitting parameters: {'lr__C': 10, 'lr__penalty': 'l2', 'tvec__max_df': 0.5, 'tvec__max_features': None, 'tvec__ngram_range': (1, 2), 'tvec__preprocessor': None}\n",
      "\n",
      "Best score: 0.748\n",
      "Test score: 0.757\n",
      "\n",
      "Classification report:\n",
      "              precision    recall  f1-score   support\n",
      "\n",
      "           0       0.76      0.75      0.75      2560\n",
      "           1       0.76      0.77      0.76      2608\n",
      "\n",
      "    accuracy                           0.76      5168\n",
      "   macro avg       0.76      0.76      0.76      5168\n",
      "weighted avg       0.76      0.76      0.76      5168\n",
      "\n"
     ]
    },
    {
     "data": {
      "image/png": "[encoded data removed]",
      "text/plain": [
       "<Figure size 432x288 with 2 Axes>"
      ]
     },
     "metadata": {
      "needs_background": "light"
     },
     "output_type": "display_data"
    }
   ],
   "source": [
    "lr_tvec = NLP_model('tvec', TfidfVectorizer(), 'lr', LogisticRegression(), tvec_params, lr_params)\n",
    "lr_tvec.head().T\n",
    "\n",
    "df_all.append(lr_tvec)"
   ]
  },
  {
   "cell_type": "markdown",
   "id": "ff465a28-5a5d-42fe-a723-e74d04137260",
   "metadata": {},
   "source": [
    "## 3. KNeighborsClassifier(), CountVectorizer()"
   ]
  },
  {
   "cell_type": "code",
   "execution_count": 15,
   "id": "6169c37e-7294-4b55-9403-72548c93cb2f",
   "metadata": {},
   "outputs": [
    {
     "name": "stdout",
     "output_type": "stream",
     "text": [
      "********************************************************************************\n",
      "MODEL = KNeighborsClassifier(), VECTORIZER = CountVectorizer()\n",
      "********************************************************************************\n",
      "Best fitting parameters: {'cvec__max_df': 0.5, 'cvec__max_features': 5000, 'cvec__ngram_range': (1, 2), 'cvec__preprocessor': None, 'knn__n_neighbors': 3, 'knn__weights': 'distance'}\n",
      "\n",
      "Best score: 0.595\n",
      "Test score: 0.598\n",
      "\n",
      "Classification report:\n",
      "              precision    recall  f1-score   support\n",
      "\n",
      "           0       0.57      0.79      0.66      2560\n",
      "           1       0.67      0.41      0.51      2608\n",
      "\n",
      "    accuracy                           0.60      5168\n",
      "   macro avg       0.62      0.60      0.58      5168\n",
      "weighted avg       0.62      0.60      0.58      5168\n",
      "\n"
     ]
    },
    {
     "data": {
      "image/png": "[encoded data removed]",
      "text/plain": [
       "<Figure size 432x288 with 2 Axes>"
      ]
     },
     "metadata": {
      "needs_background": "light"
     },
     "output_type": "display_data"
    }
   ],
   "source": [
    "knn_cvec = NLP_model('cvec', CountVectorizer(), 'knn', KNeighborsClassifier(), cvec_params, knn_params)\n",
    "knn_cvec.head().T\n",
    "\n",
    "df_all.append(knn_cvec)"
   ]
  },
  {
   "cell_type": "markdown",
   "id": "b495dc1b-d321-4498-8c22-359c93939b40",
   "metadata": {},
   "source": [
    "# 4. KNeighborsClassifier(), TfidfVectorizer()"
   ]
  },
  {
   "cell_type": "code",
   "execution_count": 16,
   "id": "fd53b204-16cf-4b57-babb-420e0d1a668d",
   "metadata": {},
   "outputs": [
    {
     "name": "stdout",
     "output_type": "stream",
     "text": [
      "********************************************************************************\n",
      "MODEL = KNeighborsClassifier(), VECTORIZER = TfidfVectorizer()\n",
      "********************************************************************************\n",
      "Best fitting parameters: {'knn__n_neighbors': 3, 'knn__weights': 'distance', 'tvec__max_df': 0.5, 'tvec__max_features': 5000, 'tvec__ngram_range': (1, 1), 'tvec__preprocessor': None}\n",
      "\n",
      "Best score: 0.576\n",
      "Test score: 0.589\n",
      "\n",
      "Classification report:\n",
      "              precision    recall  f1-score   support\n",
      "\n",
      "           0       0.55      0.93      0.69      2560\n",
      "           1       0.78      0.26      0.39      2608\n",
      "\n",
      "    accuracy                           0.59      5168\n",
      "   macro avg       0.66      0.59      0.54      5168\n",
      "weighted avg       0.67      0.59      0.54      5168\n",
      "\n"
     ]
    },
    {
     "data": {
      "image/png": "[encoded data removed]",
      "text/plain": [
       "<Figure size 432x288 with 2 Axes>"
      ]
     },
     "metadata": {
      "needs_background": "light"
     },
     "output_type": "display_data"
    }
   ],
   "source": [
    "knn_tvec = NLP_model('tvec', TfidfVectorizer(), 'knn', KNeighborsClassifier(), tvec_params, knn_params)\n",
    "knn_tvec.head().T\n",
    "\n",
    "df_all.append(knn_tvec)"
   ]
  },
  {
   "cell_type": "markdown",
   "id": "9ac306f4-fc2f-4be6-9548-80b2d88a2748",
   "metadata": {},
   "source": [
    "# 5. MultinomialNB(), CountVectorizer()"
   ]
  },
  {
   "cell_type": "code",
   "execution_count": 17,
   "id": "82aaf4ed-4afe-4653-b30c-46af734fc4fc",
   "metadata": {},
   "outputs": [
    {
     "name": "stdout",
     "output_type": "stream",
     "text": [
      "********************************************************************************\n",
      "MODEL = MultinomialNB(), VECTORIZER = CountVectorizer()\n",
      "********************************************************************************\n",
      "Best fitting parameters: {'cvec__max_df': 0.5, 'cvec__max_features': None, 'cvec__ngram_range': (1, 2), 'cvec__preprocessor': None, 'nb__alpha': 1}\n",
      "\n",
      "Best score: 0.754\n",
      "Test score: 0.752\n",
      "\n",
      "Classification report:\n",
      "              precision    recall  f1-score   support\n",
      "\n",
      "           0       0.75      0.75      0.75      2560\n",
      "           1       0.75      0.76      0.75      2608\n",
      "\n",
      "    accuracy                           0.75      5168\n",
      "   macro avg       0.75      0.75      0.75      5168\n",
      "weighted avg       0.75      0.75      0.75      5168\n",
      "\n"
     ]
    },
    {
     "data": {
      "image/png": "[encoded data removed]",
      "text/plain": [
       "<Figure size 432x288 with 2 Axes>"
      ]
     },
     "metadata": {
      "needs_background": "light"
     },
     "output_type": "display_data"
    }
   ],
   "source": [
    "nb_cvec = NLP_model('cvec', CountVectorizer(), 'nb', MultinomialNB(), cvec_params, nb_params)\n",
    "nb_cvec.head().T\n",
    "\n",
    "df_all.append(nb_cvec)"
   ]
  },
  {
   "cell_type": "markdown",
   "id": "ca379d86-f308-45ec-b1ac-7f1cf48d9d1d",
   "metadata": {},
   "source": [
    "# 6. MultinomialNB(), TfidfVectorizer()"
   ]
  },
  {
   "cell_type": "code",
   "execution_count": 18,
   "id": "92aa8855-7459-408c-9647-3003b9785bf7",
   "metadata": {},
   "outputs": [
    {
     "name": "stdout",
     "output_type": "stream",
     "text": [
      "********************************************************************************\n",
      "MODEL = MultinomialNB(), VECTORIZER = TfidfVectorizer()\n",
      "********************************************************************************\n",
      "Best fitting parameters: {'nb__alpha': 1, 'tvec__max_df': 0.5, 'tvec__max_features': None, 'tvec__ngram_range': (1, 2), 'tvec__preprocessor': None}\n",
      "\n",
      "Best score: 0.754\n",
      "Test score: 0.756\n",
      "\n",
      "Classification report:\n",
      "              precision    recall  f1-score   support\n",
      "\n",
      "           0       0.76      0.75      0.75      2560\n",
      "           1       0.75      0.77      0.76      2608\n",
      "\n",
      "    accuracy                           0.76      5168\n",
      "   macro avg       0.76      0.76      0.76      5168\n",
      "weighted avg       0.76      0.76      0.76      5168\n",
      "\n"
     ]
    },
    {
     "data": {
      "image/png": "[encoded data removed]",
      "text/plain": [
       "<Figure size 432x288 with 2 Axes>"
      ]
     },
     "metadata": {
      "needs_background": "light"
     },
     "output_type": "display_data"
    }
   ],
   "source": [
    "nb_tvec = NLP_model('tvec', TfidfVectorizer(), 'nb', MultinomialNB(), tvec_params, nb_params)\n",
    "nb_tvec.head().T\n",
    "\n",
    "df_all.append(nb_tvec)"
   ]
  },
  {
   "cell_type": "markdown",
   "id": "ab50f726-73d0-4a1e-a601-edf3e49c6f83",
   "metadata": {},
   "source": [
    "# 7. RandomForestClassifier(), CountVectorizer()"
   ]
  },
  {
   "cell_type": "code",
   "execution_count": 19,
   "id": "d31fd840-0e57-4eb1-a455-09054c1305de",
   "metadata": {},
   "outputs": [
    {
     "name": "stdout",
     "output_type": "stream",
     "text": [
      "********************************************************************************\n",
      "MODEL = RandomForestClassifier(), VECTORIZER = CountVectorizer()\n",
      "********************************************************************************\n",
      "Best fitting parameters: {'cvec__max_df': 0.9, 'cvec__max_features': None, 'cvec__ngram_range': (1, 2), 'cvec__preprocessor': None, 'rf__max_depth': None, 'rf__min_samples_leaf': 1, 'rf__n_estimators': 100}\n",
      "\n",
      "Best score: 0.715\n",
      "Test score: 0.725\n",
      "\n",
      "Classification report:\n",
      "              precision    recall  f1-score   support\n",
      "\n",
      "           0       0.70      0.77      0.73      2560\n",
      "           1       0.75      0.68      0.72      2608\n",
      "\n",
      "    accuracy                           0.73      5168\n",
      "   macro avg       0.73      0.73      0.72      5168\n",
      "weighted avg       0.73      0.73      0.72      5168\n",
      "\n"
     ]
    },
    {
     "data": {
      "image/png": "[encoded data removed]",
      "text/plain": [
       "<Figure size 432x288 with 2 Axes>"
      ]
     },
     "metadata": {
      "needs_background": "light"
     },
     "output_type": "display_data"
    }
   ],
   "source": [
    "rf_cvec = NLP_model('cvec', CountVectorizer(), 'rf', RandomForestClassifier(), cvec_params, rf_params)\n",
    "rf_cvec.head().T\n",
    "\n",
    "df_all.append(rf_cvec)"
   ]
  },
  {
   "cell_type": "markdown",
   "id": "bc0ff95e-5193-46eb-804a-1e054047fce1",
   "metadata": {},
   "source": [
    "# 8. RandomForestClassifier(), TfidfVectorizer()"
   ]
  },
  {
   "cell_type": "code",
   "execution_count": 20,
   "id": "3a35d68d-ba38-413a-822a-78dca7e63571",
   "metadata": {},
   "outputs": [
    {
     "name": "stdout",
     "output_type": "stream",
     "text": [
      "********************************************************************************\n",
      "MODEL = RandomForestClassifier(), VECTORIZER = TfidfVectorizer()\n",
      "********************************************************************************\n",
      "Best fitting parameters: {'rf__max_depth': None, 'rf__min_samples_leaf': 1, 'rf__n_estimators': 150, 'tvec__max_df': 0.5, 'tvec__max_features': None, 'tvec__ngram_range': (1, 1), 'tvec__preprocessor': None}\n",
      "\n",
      "Best score: 0.71\n",
      "Test score: 0.727\n",
      "\n",
      "Classification report:\n",
      "              precision    recall  f1-score   support\n",
      "\n",
      "           0       0.71      0.75      0.73      2560\n",
      "           1       0.74      0.70      0.72      2608\n",
      "\n",
      "    accuracy                           0.73      5168\n",
      "   macro avg       0.73      0.73      0.73      5168\n",
      "weighted avg       0.73      0.73      0.73      5168\n",
      "\n"
     ]
    },
    {
     "data": {
      "image/png": "[encoded data removed]",
      "text/plain": [
       "<Figure size 432x288 with 2 Axes>"
      ]
     },
     "metadata": {
      "needs_background": "light"
     },
     "output_type": "display_data"
    }
   ],
   "source": [
    "rf_tvec = NLP_model('tvec', TfidfVectorizer(), 'rf', RandomForestClassifier(), tvec_params, rf_params)\n",
    "rf_tvec.head().T\n",
    "\n",
    "df_all.append(rf_tvec)"
   ]
  },
  {
   "cell_type": "markdown",
   "id": "460317bb-35b2-488a-8de3-272711b4db36",
   "metadata": {},
   "source": [
    "## 9. AdaBoostClassifier(), CountVectorizer()"
   ]
  },
  {
   "cell_type": "code",
   "execution_count": 21,
   "id": "ed006fd6-31a1-461b-97ad-1a4e57264d37",
   "metadata": {},
   "outputs": [
    {
     "name": "stdout",
     "output_type": "stream",
     "text": [
      "********************************************************************************\n",
      "MODEL = AdaBoostClassifier(), VECTORIZER = CountVectorizer()\n",
      "********************************************************************************\n",
      "Best fitting parameters: {'ada__learning_rate': 0.5, 'ada__n_estimators': 100, 'cvec__max_df': 0.5, 'cvec__max_features': None, 'cvec__ngram_range': (1, 1), 'cvec__preprocessor': None}\n",
      "\n",
      "Best score: 0.632\n",
      "Test score: 0.64\n",
      "\n",
      "Classification report:\n",
      "              precision    recall  f1-score   support\n",
      "\n",
      "           0       0.70      0.47      0.56      2560\n",
      "           1       0.61      0.81      0.69      2608\n",
      "\n",
      "    accuracy                           0.64      5168\n",
      "   macro avg       0.66      0.64      0.63      5168\n",
      "weighted avg       0.66      0.64      0.63      5168\n",
      "\n"
     ]
    },
    {
     "data": {
      "image/png": "[encoded data removed]",
      "text/plain": [
       "<Figure size 432x288 with 2 Axes>"
      ]
     },
     "metadata": {
      "needs_background": "light"
     },
     "output_type": "display_data"
    }
   ],
   "source": [
    "ada_cvec = NLP_model('cvec', CountVectorizer(), 'ada', AdaBoostClassifier(), cvec_params, ada_params)\n",
    "ada_cvec.head().T\n",
    "\n",
    "df_all.append(ada_cvec)"
   ]
  },
  {
   "cell_type": "markdown",
   "id": "5b3a06a4-cab4-4a1d-9360-8a2335d09fb7",
   "metadata": {},
   "source": [
    "## 10. AdaBoostClassifier(), TfidfVectorizer()"
   ]
  },
  {
   "cell_type": "code",
   "execution_count": 22,
   "id": "df513fc2-fd98-4fd1-9831-053a2fc72d89",
   "metadata": {},
   "outputs": [
    {
     "name": "stdout",
     "output_type": "stream",
     "text": [
      "********************************************************************************\n",
      "MODEL = AdaBoostClassifier(), VECTORIZER = TfidfVectorizer()\n",
      "********************************************************************************\n",
      "Best fitting parameters: {'ada__learning_rate': 1.0, 'ada__n_estimators': 100, 'tvec__max_df': 0.5, 'tvec__max_features': 5000, 'tvec__ngram_range': (1, 2), 'tvec__preprocessor': None}\n",
      "\n",
      "Best score: 0.639\n",
      "Test score: 0.64\n",
      "\n",
      "Classification report:\n",
      "              precision    recall  f1-score   support\n",
      "\n",
      "           0       0.70      0.48      0.57      2560\n",
      "           1       0.61      0.80      0.69      2608\n",
      "\n",
      "    accuracy                           0.64      5168\n",
      "   macro avg       0.65      0.64      0.63      5168\n",
      "weighted avg       0.65      0.64      0.63      5168\n",
      "\n"
     ]
    },
    {
     "data": {
      "image/png": "[encoded data removed]",
      "text/plain": [
       "<Figure size 432x288 with 2 Axes>"
      ]
     },
     "metadata": {
      "needs_background": "light"
     },
     "output_type": "display_data"
    }
   ],
   "source": [
    "ada_tvec = NLP_model('tvec', TfidfVectorizer(), 'ada', AdaBoostClassifier(), tvec_params, ada_params)\n",
    "ada_tvec.head().T\n",
    "\n",
    "df_all.append(ada_tvec)"
   ]
  },
  {
   "cell_type": "markdown",
   "id": "9c74cc25-d81a-4696-94d7-a9e08fe2b61a",
   "metadata": {},
   "source": [
    "# 11. GradientBoostingClassifier(), CountVectorizer()"
   ]
  },
  {
   "cell_type": "code",
   "execution_count": 23,
   "id": "28a66370-2006-484c-8c83-4cfc435cb3f6",
   "metadata": {},
   "outputs": [
    {
     "name": "stdout",
     "output_type": "stream",
     "text": [
      "********************************************************************************\n",
      "MODEL = GradientBoostingClassifier(), VECTORIZER = CountVectorizer()\n",
      "********************************************************************************\n",
      "Best fitting parameters: {'cvec__max_df': 0.5, 'cvec__max_features': 5000, 'cvec__ngram_range': (1, 2), 'cvec__preprocessor': None, 'gb__learning_rate': 0.5, 'gb__max_depth': 4, 'gb__n_estimators': 200}\n",
      "\n",
      "Best score: 0.694\n",
      "Test score: 0.688\n",
      "\n",
      "Classification report:\n",
      "              precision    recall  f1-score   support\n",
      "\n",
      "           0       0.72      0.61      0.66      2560\n",
      "           1       0.67      0.76      0.71      2608\n",
      "\n",
      "    accuracy                           0.69      5168\n",
      "   macro avg       0.69      0.69      0.69      5168\n",
      "weighted avg       0.69      0.69      0.69      5168\n",
      "\n"
     ]
    },
    {
     "data": {
      "image/png": "[encoded data removed]",
      "text/plain": [
       "<Figure size 432x288 with 2 Axes>"
      ]
     },
     "metadata": {
      "needs_background": "light"
     },
     "output_type": "display_data"
    }
   ],
   "source": [
    "gb_cvec = NLP_model('cvec', CountVectorizer(), 'gb', GradientBoostingClassifier(), cvec_params, gb_params)\n",
    "gb_cvec.head().T\n",
    "\n",
    "df_all.append(gb_cvec)"
   ]
  },
  {
   "cell_type": "markdown",
   "id": "c251615b-db2d-478a-9957-61983e51432b",
   "metadata": {},
   "source": [
    "# 12. GradientBoostingClassifier(), TfidfVectorizer()"
   ]
  },
  {
   "cell_type": "code",
   "execution_count": 24,
   "id": "8a870358-d0ee-4dd7-939b-e6b5e62dcc06",
   "metadata": {},
   "outputs": [
    {
     "name": "stdout",
     "output_type": "stream",
     "text": [
      "********************************************************************************\n",
      "MODEL = GradientBoostingClassifier(), VECTORIZER = TfidfVectorizer()\n",
      "********************************************************************************\n",
      "Best fitting parameters: {'gb__learning_rate': 0.5, 'gb__max_depth': 4, 'gb__n_estimators': 200, 'tvec__max_df': 0.5, 'tvec__max_features': None, 'tvec__ngram_range': (1, 1), 'tvec__preprocessor': None}\n",
      "\n",
      "Best score: 0.687\n",
      "Test score: 0.68\n",
      "\n",
      "Classification report:\n",
      "              precision    recall  f1-score   support\n",
      "\n",
      "           0       0.69      0.64      0.66      2560\n",
      "           1       0.67      0.72      0.70      2608\n",
      "\n",
      "    accuracy                           0.68      5168\n",
      "   macro avg       0.68      0.68      0.68      5168\n",
      "weighted avg       0.68      0.68      0.68      5168\n",
      "\n"
     ]
    },
    {
     "data": {
      "image/png": "[encoded data removed]",
      "text/plain": [
       "<Figure size 432x288 with 2 Axes>"
      ]
     },
     "metadata": {
      "needs_background": "light"
     },
     "output_type": "display_data"
    }
   ],
   "source": [
    "gb_tvec = NLP_model('tvec', TfidfVectorizer(), 'gb', GradientBoostingClassifier(), tvec_params, gb_params)\n",
    "gb_tvec.head().T\n",
    "\n",
    "df_all.append(gb_tvec)"
   ]
  },
  {
   "cell_type": "code",
   "execution_count": 25,
   "id": "247a49af-2eed-4e9f-8b09-0f78355a70cc",
   "metadata": {},
   "outputs": [],
   "source": [
    "full_df = pd.concat(df_all)"
   ]
  },
  {
   "cell_type": "markdown",
   "id": "c486f534-7c45-49ac-a806-be80526e46bc",
   "metadata": {},
   "source": [
    "## Results:"
   ]
  },
  {
   "cell_type": "code",
   "execution_count": 31,
   "id": "bbfe3bca-e8d2-42d8-8f40-1b83f766b9b2",
   "metadata": {},
   "outputs": [],
   "source": [
    "#full_df.to_csv('data/model_results.csv', index=False)"
   ]
  },
  {
   "cell_type": "code",
   "execution_count": 35,
   "id": "f5320610-a3f3-4240-a2e2-b46ae7f2865a",
   "metadata": {},
   "outputs": [
    {
     "data": {
      "text/html": [
       "<div>\n",
       "<style scoped>\n",
       "    .dataframe tbody tr th:only-of-type {\n",
       "        vertical-align: middle;\n",
       "    }\n",
       "\n",
       "    .dataframe tbody tr th {\n",
       "        vertical-align: top;\n",
       "    }\n",
       "\n",
       "    .dataframe thead th {\n",
       "        text-align: right;\n",
       "    }\n",
       "</style>\n",
       "<table border=\"1\" class=\"dataframe\">\n",
       "  <thead>\n",
       "    <tr style=\"text-align: right;\">\n",
       "      <th></th>\n",
       "      <th>model_vec</th>\n",
       "      <th>best_params</th>\n",
       "      <th>train_score</th>\n",
       "      <th>test_score</th>\n",
       "      <th>sensitivity</th>\n",
       "      <th>specificity</th>\n",
       "      <th>precision</th>\n",
       "      <th>f1_score</th>\n",
       "      <th>tn</th>\n",
       "      <th>fp</th>\n",
       "      <th>fn</th>\n",
       "      <th>tp</th>\n",
       "    </tr>\n",
       "  </thead>\n",
       "  <tbody>\n",
       "    <tr>\n",
       "      <th>0</th>\n",
       "      <td>lr_tvec</td>\n",
       "      <td>{'lr__C': 10, 'lr__penalty': 'l2', 'tvec__max_df': 0.5, 'tvec__max_features': None, 'tvec__ngram_range': (1, 2), 'tvec__preprocessor': None}</td>\n",
       "      <td>0.748420</td>\n",
       "      <td>0.757353</td>\n",
       "      <td>0.765337</td>\n",
       "      <td>0.749219</td>\n",
       "      <td>0.756634</td>\n",
       "      <td>0.760961</td>\n",
       "      <td>1918</td>\n",
       "      <td>642</td>\n",
       "      <td>612</td>\n",
       "      <td>1996</td>\n",
       "    </tr>\n",
       "    <tr>\n",
       "      <th>1</th>\n",
       "      <td>nb_tvec</td>\n",
       "      <td>{'nb__alpha': 1, 'tvec__max_df': 0.5, 'tvec__max_features': None, 'tvec__ngram_range': (1, 2), 'tvec__preprocessor': None}</td>\n",
       "      <td>0.753903</td>\n",
       "      <td>0.756192</td>\n",
       "      <td>0.766871</td>\n",
       "      <td>0.745313</td>\n",
       "      <td>0.754148</td>\n",
       "      <td>0.760456</td>\n",
       "      <td>1908</td>\n",
       "      <td>652</td>\n",
       "      <td>608</td>\n",
       "      <td>2000</td>\n",
       "    </tr>\n",
       "    <tr>\n",
       "      <th>2</th>\n",
       "      <td>lr_cvec</td>\n",
       "      <td>{'cvec__max_df': 0.5, 'cvec__max_features': None, 'cvec__ngram_range': (1, 2), 'cvec__preprocessor': None, 'lr__C': 1, 'lr__penalty': 'l2'}</td>\n",
       "      <td>0.742098</td>\n",
       "      <td>0.753483</td>\n",
       "      <td>0.750767</td>\n",
       "      <td>0.756250</td>\n",
       "      <td>0.758327</td>\n",
       "      <td>0.754528</td>\n",
       "      <td>1936</td>\n",
       "      <td>624</td>\n",
       "      <td>650</td>\n",
       "      <td>1958</td>\n",
       "    </tr>\n",
       "    <tr>\n",
       "      <th>3</th>\n",
       "      <td>nb_cvec</td>\n",
       "      <td>{'cvec__max_df': 0.5, 'cvec__max_features': None, 'cvec__ngram_range': (1, 2), 'cvec__preprocessor': None, 'nb__alpha': 1}</td>\n",
       "      <td>0.754032</td>\n",
       "      <td>0.752128</td>\n",
       "      <td>0.755752</td>\n",
       "      <td>0.748437</td>\n",
       "      <td>0.753728</td>\n",
       "      <td>0.754739</td>\n",
       "      <td>1916</td>\n",
       "      <td>644</td>\n",
       "      <td>637</td>\n",
       "      <td>1971</td>\n",
       "    </tr>\n",
       "    <tr>\n",
       "      <th>4</th>\n",
       "      <td>rf_tvec</td>\n",
       "      <td>{'rf__max_depth': None, 'rf__min_samples_leaf': 1, 'rf__n_estimators': 150, 'tvec__max_df': 0.5, 'tvec__max_features': None, 'tvec__ngram_range': (1, 1), 'tvec__preprocessor': None}</td>\n",
       "      <td>0.710037</td>\n",
       "      <td>0.726587</td>\n",
       "      <td>0.702454</td>\n",
       "      <td>0.751172</td>\n",
       "      <td>0.742001</td>\n",
       "      <td>0.721686</td>\n",
       "      <td>1923</td>\n",
       "      <td>637</td>\n",
       "      <td>776</td>\n",
       "      <td>1832</td>\n",
       "    </tr>\n",
       "    <tr>\n",
       "      <th>5</th>\n",
       "      <td>rf_cvec</td>\n",
       "      <td>{'cvec__max_df': 0.9, 'cvec__max_features': None, 'cvec__ngram_range': (1, 2), 'cvec__preprocessor': None, 'rf__max_depth': None, 'rf__min_samples_leaf': 1, 'rf__n_estimators': 100}</td>\n",
       "      <td>0.714811</td>\n",
       "      <td>0.725039</td>\n",
       "      <td>0.684433</td>\n",
       "      <td>0.766406</td>\n",
       "      <td>0.749056</td>\n",
       "      <td>0.715288</td>\n",
       "      <td>1962</td>\n",
       "      <td>598</td>\n",
       "      <td>823</td>\n",
       "      <td>1785</td>\n",
       "    </tr>\n",
       "    <tr>\n",
       "      <th>6</th>\n",
       "      <td>gb_cvec</td>\n",
       "      <td>{'cvec__max_df': 0.5, 'cvec__max_features': 5000, 'cvec__ngram_range': (1, 2), 'cvec__preprocessor': None, 'gb__learning_rate': 0.5, 'gb__max_depth': 4, 'gb__n_estimators': 200}</td>\n",
       "      <td>0.694104</td>\n",
       "      <td>0.687887</td>\n",
       "      <td>0.763420</td>\n",
       "      <td>0.610938</td>\n",
       "      <td>0.666555</td>\n",
       "      <td>0.711707</td>\n",
       "      <td>1564</td>\n",
       "      <td>996</td>\n",
       "      <td>617</td>\n",
       "      <td>1991</td>\n",
       "    </tr>\n",
       "    <tr>\n",
       "      <th>7</th>\n",
       "      <td>gb_tvec</td>\n",
       "      <td>{'gb__learning_rate': 0.5, 'gb__max_depth': 4, 'gb__n_estimators': 200, 'tvec__max_df': 0.5, 'tvec__max_features': None, 'tvec__ngram_range': (1, 1), 'tvec__preprocessor': None}</td>\n",
       "      <td>0.686621</td>\n",
       "      <td>0.680341</td>\n",
       "      <td>0.722009</td>\n",
       "      <td>0.637891</td>\n",
       "      <td>0.670107</td>\n",
       "      <td>0.695090</td>\n",
       "      <td>1633</td>\n",
       "      <td>927</td>\n",
       "      <td>725</td>\n",
       "      <td>1883</td>\n",
       "    </tr>\n",
       "    <tr>\n",
       "      <th>8</th>\n",
       "      <td>ada_tvec</td>\n",
       "      <td>{'ada__learning_rate': 1.0, 'ada__n_estimators': 100, 'tvec__max_df': 0.5, 'tvec__max_features': 5000, 'tvec__ngram_range': (1, 2), 'tvec__preprocessor': None}</td>\n",
       "      <td>0.639272</td>\n",
       "      <td>0.639706</td>\n",
       "      <td>0.796012</td>\n",
       "      <td>0.480469</td>\n",
       "      <td>0.609513</td>\n",
       "      <td>0.690389</td>\n",
       "      <td>1230</td>\n",
       "      <td>1330</td>\n",
       "      <td>532</td>\n",
       "      <td>2076</td>\n",
       "    </tr>\n",
       "    <tr>\n",
       "      <th>9</th>\n",
       "      <td>ada_cvec</td>\n",
       "      <td>{'ada__learning_rate': 0.5, 'ada__n_estimators': 100, 'cvec__max_df': 0.5, 'cvec__max_features': None, 'cvec__ngram_range': (1, 1), 'cvec__preprocessor': None}</td>\n",
       "      <td>0.631596</td>\n",
       "      <td>0.639512</td>\n",
       "      <td>0.806365</td>\n",
       "      <td>0.469531</td>\n",
       "      <td>0.607628</td>\n",
       "      <td>0.693030</td>\n",
       "      <td>1202</td>\n",
       "      <td>1358</td>\n",
       "      <td>505</td>\n",
       "      <td>2103</td>\n",
       "    </tr>\n",
       "    <tr>\n",
       "      <th>10</th>\n",
       "      <td>knn_cvec</td>\n",
       "      <td>{'cvec__max_df': 0.5, 'cvec__max_features': 5000, 'cvec__ngram_range': (1, 2), 'cvec__preprocessor': None, 'knn__n_neighbors': 3, 'knn__weights': 'distance'}</td>\n",
       "      <td>0.594956</td>\n",
       "      <td>0.598491</td>\n",
       "      <td>0.406442</td>\n",
       "      <td>0.794141</td>\n",
       "      <td>0.667927</td>\n",
       "      <td>0.505364</td>\n",
       "      <td>2033</td>\n",
       "      <td>527</td>\n",
       "      <td>1548</td>\n",
       "      <td>1060</td>\n",
       "    </tr>\n",
       "    <tr>\n",
       "      <th>11</th>\n",
       "      <td>knn_tvec</td>\n",
       "      <td>{'knn__n_neighbors': 3, 'knn__weights': 'distance', 'tvec__max_df': 0.5, 'tvec__max_features': 5000, 'tvec__ngram_range': (1, 1), 'tvec__preprocessor': None}</td>\n",
       "      <td>0.576314</td>\n",
       "      <td>0.588816</td>\n",
       "      <td>0.258819</td>\n",
       "      <td>0.925000</td>\n",
       "      <td>0.778547</td>\n",
       "      <td>0.388489</td>\n",
       "      <td>2368</td>\n",
       "      <td>192</td>\n",
       "      <td>1933</td>\n",
       "      <td>675</td>\n",
       "    </tr>\n",
       "  </tbody>\n",
       "</table>\n",
       "</div>"
      ],
      "text/plain": [
       "   model_vec  \\\n",
       "0    lr_tvec   \n",
       "1    nb_tvec   \n",
       "2    lr_cvec   \n",
       "3    nb_cvec   \n",
       "4    rf_tvec   \n",
       "5    rf_cvec   \n",
       "6    gb_cvec   \n",
       "7    gb_tvec   \n",
       "8   ada_tvec   \n",
       "9   ada_cvec   \n",
       "10  knn_cvec   \n",
       "11  knn_tvec   \n",
       "\n",
       "                                                                                                                                                                              best_params  \\\n",
       "0                                            {'lr__C': 10, 'lr__penalty': 'l2', 'tvec__max_df': 0.5, 'tvec__max_features': None, 'tvec__ngram_range': (1, 2), 'tvec__preprocessor': None}   \n",
       "1                                                              {'nb__alpha': 1, 'tvec__max_df': 0.5, 'tvec__max_features': None, 'tvec__ngram_range': (1, 2), 'tvec__preprocessor': None}   \n",
       "2                                             {'cvec__max_df': 0.5, 'cvec__max_features': None, 'cvec__ngram_range': (1, 2), 'cvec__preprocessor': None, 'lr__C': 1, 'lr__penalty': 'l2'}   \n",
       "3                                                              {'cvec__max_df': 0.5, 'cvec__max_features': None, 'cvec__ngram_range': (1, 2), 'cvec__preprocessor': None, 'nb__alpha': 1}   \n",
       "4   {'rf__max_depth': None, 'rf__min_samples_leaf': 1, 'rf__n_estimators': 150, 'tvec__max_df': 0.5, 'tvec__max_features': None, 'tvec__ngram_range': (1, 1), 'tvec__preprocessor': None}   \n",
       "5   {'cvec__max_df': 0.9, 'cvec__max_features': None, 'cvec__ngram_range': (1, 2), 'cvec__preprocessor': None, 'rf__max_depth': None, 'rf__min_samples_leaf': 1, 'rf__n_estimators': 100}   \n",
       "6       {'cvec__max_df': 0.5, 'cvec__max_features': 5000, 'cvec__ngram_range': (1, 2), 'cvec__preprocessor': None, 'gb__learning_rate': 0.5, 'gb__max_depth': 4, 'gb__n_estimators': 200}   \n",
       "7       {'gb__learning_rate': 0.5, 'gb__max_depth': 4, 'gb__n_estimators': 200, 'tvec__max_df': 0.5, 'tvec__max_features': None, 'tvec__ngram_range': (1, 1), 'tvec__preprocessor': None}   \n",
       "8                         {'ada__learning_rate': 1.0, 'ada__n_estimators': 100, 'tvec__max_df': 0.5, 'tvec__max_features': 5000, 'tvec__ngram_range': (1, 2), 'tvec__preprocessor': None}   \n",
       "9                         {'ada__learning_rate': 0.5, 'ada__n_estimators': 100, 'cvec__max_df': 0.5, 'cvec__max_features': None, 'cvec__ngram_range': (1, 1), 'cvec__preprocessor': None}   \n",
       "10                          {'cvec__max_df': 0.5, 'cvec__max_features': 5000, 'cvec__ngram_range': (1, 2), 'cvec__preprocessor': None, 'knn__n_neighbors': 3, 'knn__weights': 'distance'}   \n",
       "11                          {'knn__n_neighbors': 3, 'knn__weights': 'distance', 'tvec__max_df': 0.5, 'tvec__max_features': 5000, 'tvec__ngram_range': (1, 1), 'tvec__preprocessor': None}   \n",
       "\n",
       "    train_score  test_score  sensitivity  specificity  precision  f1_score  \\\n",
       "0      0.748420    0.757353     0.765337     0.749219   0.756634  0.760961   \n",
       "1      0.753903    0.756192     0.766871     0.745313   0.754148  0.760456   \n",
       "2      0.742098    0.753483     0.750767     0.756250   0.758327  0.754528   \n",
       "3      0.754032    0.752128     0.755752     0.748437   0.753728  0.754739   \n",
       "4      0.710037    0.726587     0.702454     0.751172   0.742001  0.721686   \n",
       "5      0.714811    0.725039     0.684433     0.766406   0.749056  0.715288   \n",
       "6      0.694104    0.687887     0.763420     0.610938   0.666555  0.711707   \n",
       "7      0.686621    0.680341     0.722009     0.637891   0.670107  0.695090   \n",
       "8      0.639272    0.639706     0.796012     0.480469   0.609513  0.690389   \n",
       "9      0.631596    0.639512     0.806365     0.469531   0.607628  0.693030   \n",
       "10     0.594956    0.598491     0.406442     0.794141   0.667927  0.505364   \n",
       "11     0.576314    0.588816     0.258819     0.925000   0.778547  0.388489   \n",
       "\n",
       "      tn    fp    fn    tp  \n",
       "0   1918   642   612  1996  \n",
       "1   1908   652   608  2000  \n",
       "2   1936   624   650  1958  \n",
       "3   1916   644   637  1971  \n",
       "4   1923   637   776  1832  \n",
       "5   1962   598   823  1785  \n",
       "6   1564   996   617  1991  \n",
       "7   1633   927   725  1883  \n",
       "8   1230  1330   532  2076  \n",
       "9   1202  1358   505  2103  \n",
       "10  2033   527  1548  1060  \n",
       "11  2368   192  1933   675  "
      ]
     },
     "execution_count": 35,
     "metadata": {},
     "output_type": "execute_result"
    }
   ],
   "source": [
    "pd.set_option('display.max_colwidth', None)\n",
    "full_df.sort_values(by=['test_score'], ascending=False).reset_index(drop=True)"
   ]
  },
  {
   "cell_type": "markdown",
   "id": "277be179-be19-45a8-8064-89a7db539b55",
   "metadata": {},
   "source": [
    "Overall our models did okay. They all outperformed the baseline null model of 50.4% accuracy, which is reassuring, but the overall accuracy is still not as high as I was hoping it would be. Our train and test scores for each model are very similar, indicating that our models are not overfit.\n",
    "\n",
    "Our best model is a Logistic Regression model with L2 (Ridge) regularization and TfidfVectorizer with no preprocessing of the words (i.e., no lemmatizing or stemming). This model accurately predicted the subreddit classification of 75.7% of the test data based on our input features. \n",
    "\n",
    "It should be noted that the scores for our next best-fitting models are very similar to the best model. These models are a Multinomial Naive Bayes model with TfidfVectorizer and another Logistic Regression model with L2 regularization and CountVectorizer. "
   ]
  },
  {
   "cell_type": "code",
   "execution_count": null,
   "id": "0fc8e35f-e97a-43a3-9e7b-8d16f8cb0e1d",
   "metadata": {},
   "outputs": [],
   "source": []
  }
 ],
 "metadata": {
  "kernelspec": {
   "display_name": "Python [conda env:dsi]",
   "language": "python",
   "name": "conda-env-dsi-py"
  },
  "language_info": {
   "codemirror_mode": {
    "name": "ipython",
    "version": 3
   },
   "file_extension": ".py",
   "mimetype": "text/x-python",
   "name": "python",
   "nbconvert_exporter": "python",
   "pygments_lexer": "ipython3",
   "version": "3.9.12"
  }
 },
 "nbformat": 4,
 "nbformat_minor": 5
}
