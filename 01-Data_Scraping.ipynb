{
 "cells": [
  {
   "cell_type": "markdown",
   "id": "1fef67a0-1fc3-4482-a181-d1d27d46deb7",
   "metadata": {
    "tags": []
   },
   "source": [
    "# Web APIs & NLP: Reddit classification\n",
    "### Notebook 01 - Data Scraping and Preliminary Cleaning\n",
    "\n",
    "\n",
    "_Author: Joe Serigano (jserigano4@gmail.com)_\n",
    "\n",
    "---\n",
    "\n",
    "**Objectives:**\n",
    "- Gather and prepare data from subreddits [r/LifeProTips](https://www.reddit.com/r/ShittyLifeProTips) and [r/ShittyLifeProTips](https://www.reddit.com/r/ShittyLifeProTips) using the requests library and [Pushshift's](https://github.com/pushshift/api) API.\n",
    "- Remove any duplicate posts.\n",
    "- Save post titles for preprocessing analysis. "
   ]
  },
  {
   "cell_type": "code",
   "execution_count": 1,
   "id": "d76ef7ed-f3fb-4c3a-9a7c-953726bb5e20",
   "metadata": {},
   "outputs": [],
   "source": [
    "# Import libaries\n",
    "import requests\n",
    "import pandas as pd\n",
    "import numpy as np\n",
    "import time\n",
    "\n",
    "# We are dealing with large data sets, so setting max number of column and row displays to be unlimited\n",
    "pd.set_option('display.max_columns', None)\n",
    "pd.set_option('display.max_rows', None)"
   ]
  },
  {
   "cell_type": "markdown",
   "id": "254c0824-8182-44be-92b6-fa21d8d31a5c",
   "metadata": {},
   "source": [
    "In this project we will be analyzing the titles of posts from each subreddit, so we will use only the '/reddit/search/submission' endpoint to scrape the data."
   ]
  },
  {
   "cell_type": "code",
   "execution_count": 2,
   "id": "bedd364d-f92d-48b7-b99d-3d0b0eae5a7e",
   "metadata": {},
   "outputs": [],
   "source": [
    "url = 'https://api.pushshift.io/reddit/search/submission'"
   ]
  },
  {
   "cell_type": "markdown",
   "id": "abc0b7cc-a15a-4d53-9a75-72f5b075ddce",
   "metadata": {},
   "source": [
    "The function below gathers posts from a given subreddit posted directly before the input UTC time. Pushshift limits you to 100 posts per request, however we'll want much more data than this in order to build a good model. To overcome this issue, we'll use the earliest (minimum) UTC time from the 'created_utc' column to re-define the beginning time parameter after each request in order to gather more than 100 posts.\n",
    "\n",
    "Once we gather these data, we will save only the subreddit name and the title of each post since this is what we are going to analyze. "
   ]
  },
  {
   "cell_type": "code",
   "execution_count": 3,
   "id": "63157d4f-4536-4308-a9e2-09b41ad476a5",
   "metadata": {},
   "outputs": [],
   "source": [
    "def reddit_scraper(subreddit, n_size, utc_time, n_iter):\n",
    "    '''\n",
    "    Function to scrape posts from subreddit, beginning at specified UTC time. \n",
    "    Number of posts scraped = n_size * n_iter\n",
    "    **************\n",
    "    Input params:\n",
    "    subreddit: Subreddit to pull from\n",
    "    n_size: Number of results to return from pushshift.io API (max=100)\n",
    "    utc_time: Return results before this time in utc\n",
    "    n_iter: Amount of times to run this function in order to pull more n_iter * n_size posts.\n",
    "    **************\n",
    "    '''\n",
    "    df_all = []\n",
    "    \n",
    "    for i in range(n_iter):\n",
    "        # Define parameters for API call\n",
    "        params = {\n",
    "            'subreddit': subreddit,\n",
    "            'size': n_size,\n",
    "            'before': utc_time\n",
    "        }\n",
    "        \n",
    "        # Make url request and check that the request was successful \n",
    "        res = requests.get(url, params)\n",
    "        if res.status_code != 200:\n",
    "            print('ERROR:', res.status_code)\n",
    "            break\n",
    "            \n",
    "        # Convert text into a Dataframe and add new DF to the list of previously pulled DataFrames\n",
    "        df = pd.DataFrame(res.json()['data'])\n",
    "        df_all.append(df)\n",
    "        \n",
    "        # Re-define beginning UTC time as the new earliest (minimum) UTC time in the DataFrame\n",
    "        utc_time = df['created_utc'].min()\n",
    "\n",
    "        time.sleep(2)\n",
    "    \n",
    "    # Concatenate all the individual DataFrames and save only the subreddit and title columns\n",
    "    full_df = pd.concat(df_all)\n",
    "    full_df = full_df[['subreddit','title']]\n",
    "    \n",
    "    return full_df"
   ]
  },
  {
   "cell_type": "markdown",
   "id": "164d9625-4e10-4d15-96b0-c77a18d8e725",
   "metadata": {},
   "source": [
    "Now that we've created a function to scrape the appropriate data, we can define our input parameters and create a DataFrame for each subreddit. We want around 10,000 posts from each subreddit after removing duplicates, so we'll set n_iter to 110. The starting UTC time refers to the time at which this project was started, Monday, June 27, 2022 7:15:49 PM. The subreddit r/LifeProTips more duplicates, so we are pulling 2x as much data for that subreddit."
   ]
  },
  {
   "cell_type": "code",
   "execution_count": 4,
   "id": "626d3d4e-58be-4fc6-943b-07b524aa0996",
   "metadata": {},
   "outputs": [],
   "source": [
    "n_size = 100\n",
    "utc_time = 1656371749 # Current UTC to use as starting UTC time\n",
    "n_iter =  110\n",
    "\n",
    "subreddit_1 = 'lifeprotips'\n",
    "subreddit_2 = 'shittylifeprotips'\n",
    "\n",
    "df_lpt = reddit_scraper(subreddit_1, n_size, utc_time, n_iter*2)\n",
    "df_slpt = reddit_scraper(subreddit_2, n_size, utc_time, n_iter)"
   ]
  },
  {
   "cell_type": "markdown",
   "id": "2734c4aa-f88e-4ce7-8a05-0666256f8492",
   "metadata": {},
   "source": [
    "Now that we've pulled the appropriate data we need to inspect it for any missing values or any other issues. "
   ]
  },
  {
   "cell_type": "code",
   "execution_count": 5,
   "id": "8cb08802-bc39-421b-8614-bf20b4e6fba7",
   "metadata": {},
   "outputs": [
    {
     "name": "stdout",
     "output_type": "stream",
     "text": [
      "SHAPE/NULL VALUES:\n",
      "********** LPT **********\n",
      "Shape: (21952, 2)\n",
      "subreddit    0\n",
      "title        0\n",
      "dtype: int64\n",
      "********** SLPT **********\n",
      "Shape: (10994, 2)\n",
      "subreddit    0\n",
      "title        0\n",
      "dtype: int64\n"
     ]
    }
   ],
   "source": [
    "print('SHAPE/NULL VALUES:')\n",
    "print('*'*10, 'LPT', '*'*10)\n",
    "print(f'Shape: {df_lpt.shape}')\n",
    "print(df_lpt.isnull().sum())\n",
    "print('*'*10, 'SLPT', '*'*10)\n",
    "print(f'Shape: {df_slpt.shape}')\n",
    "print(df_slpt.isnull().sum())"
   ]
  },
  {
   "cell_type": "markdown",
   "id": "7a6115b1-f39f-47a9-b28b-84e3733bcddb",
   "metadata": {},
   "source": [
    "The shape of these DataFrames is what we expect and there are no missing values. Let's display the first few rows of each DataFrame."
   ]
  },
  {
   "cell_type": "code",
   "execution_count": 6,
   "id": "7aa96f72-5f37-4e1b-b037-20dbc58ef501",
   "metadata": {},
   "outputs": [
    {
     "data": {
      "text/html": [
       "<div>\n",
       "<style scoped>\n",
       "    .dataframe tbody tr th:only-of-type {\n",
       "        vertical-align: middle;\n",
       "    }\n",
       "\n",
       "    .dataframe tbody tr th {\n",
       "        vertical-align: top;\n",
       "    }\n",
       "\n",
       "    .dataframe thead th {\n",
       "        text-align: right;\n",
       "    }\n",
       "</style>\n",
       "<table border=\"1\" class=\"dataframe\">\n",
       "  <thead>\n",
       "    <tr style=\"text-align: right;\">\n",
       "      <th></th>\n",
       "      <th>subreddit</th>\n",
       "      <th>title</th>\n",
       "    </tr>\n",
       "  </thead>\n",
       "  <tbody>\n",
       "    <tr>\n",
       "      <th>0</th>\n",
       "      <td>LifeProTips</td>\n",
       "      <td>LPT: If you are as outraged as I am about the ...</td>\n",
       "    </tr>\n",
       "    <tr>\n",
       "      <th>1</th>\n",
       "      <td>LifeProTips</td>\n",
       "      <td>Doing things when you don't want to do them is...</td>\n",
       "    </tr>\n",
       "    <tr>\n",
       "      <th>2</th>\n",
       "      <td>LifeProTips</td>\n",
       "      <td>LPT: Dedicate a credit card to only subscripti...</td>\n",
       "    </tr>\n",
       "    <tr>\n",
       "      <th>3</th>\n",
       "      <td>LifeProTips</td>\n",
       "      <td>LPT: Like to have a flutter but gambling is to...</td>\n",
       "    </tr>\n",
       "    <tr>\n",
       "      <th>4</th>\n",
       "      <td>LifeProTips</td>\n",
       "      <td>LPT: Enraged by RvW and feeling powerless? Con...</td>\n",
       "    </tr>\n",
       "    <tr>\n",
       "      <th>5</th>\n",
       "      <td>LifeProTips</td>\n",
       "      <td>Enraged by RvW and feeling powerless? Consider...</td>\n",
       "    </tr>\n",
       "    <tr>\n",
       "      <th>6</th>\n",
       "      <td>LifeProTips</td>\n",
       "      <td>LPT: Having frequent nightmares? Get a sleep s...</td>\n",
       "    </tr>\n",
       "    <tr>\n",
       "      <th>7</th>\n",
       "      <td>LifeProTips</td>\n",
       "      <td>LPT: If you receive a coupon at a store, set a...</td>\n",
       "    </tr>\n",
       "    <tr>\n",
       "      <th>8</th>\n",
       "      <td>LifeProTips</td>\n",
       "      <td>LPT: When writing a recipe either online or of...</td>\n",
       "    </tr>\n",
       "    <tr>\n",
       "      <th>9</th>\n",
       "      <td>LifeProTips</td>\n",
       "      <td>LPT: If you live in a legal abortion state, or...</td>\n",
       "    </tr>\n",
       "    <tr>\n",
       "      <th>10</th>\n",
       "      <td>LifeProTips</td>\n",
       "      <td>clothes off for styx</td>\n",
       "    </tr>\n",
       "    <tr>\n",
       "      <th>11</th>\n",
       "      <td>LifeProTips</td>\n",
       "      <td>When writing a recipe either online or offline...</td>\n",
       "    </tr>\n",
       "    <tr>\n",
       "      <th>12</th>\n",
       "      <td>LifeProTips</td>\n",
       "      <td>LPT Request: need help making time around 12-h...</td>\n",
       "    </tr>\n",
       "    <tr>\n",
       "      <th>13</th>\n",
       "      <td>LifeProTips</td>\n",
       "      <td>LPT: Gaining weight can make your birth contro...</td>\n",
       "    </tr>\n",
       "    <tr>\n",
       "      <th>14</th>\n",
       "      <td>LifeProTips</td>\n",
       "      <td>LPT many crappers have “quick-release” feature...</td>\n",
       "    </tr>\n",
       "    <tr>\n",
       "      <th>15</th>\n",
       "      <td>LifeProTips</td>\n",
       "      <td>LPT: Assume karma exists</td>\n",
       "    </tr>\n",
       "    <tr>\n",
       "      <th>16</th>\n",
       "      <td>LifeProTips</td>\n",
       "      <td>LPT Many toilet seats have a “quick-release” f...</td>\n",
       "    </tr>\n",
       "    <tr>\n",
       "      <th>17</th>\n",
       "      <td>LifeProTips</td>\n",
       "      <td>LPT: Many toilets have a quick-release feature...</td>\n",
       "    </tr>\n",
       "    <tr>\n",
       "      <th>18</th>\n",
       "      <td>LifeProTips</td>\n",
       "      <td>With the fall of Roe, you may consider looking...</td>\n",
       "    </tr>\n",
       "    <tr>\n",
       "      <th>19</th>\n",
       "      <td>LifeProTips</td>\n",
       "      <td>LPT: If you are using Firefox on your smartpho...</td>\n",
       "    </tr>\n",
       "  </tbody>\n",
       "</table>\n",
       "</div>"
      ],
      "text/plain": [
       "      subreddit                                              title\n",
       "0   LifeProTips  LPT: If you are as outraged as I am about the ...\n",
       "1   LifeProTips  Doing things when you don't want to do them is...\n",
       "2   LifeProTips  LPT: Dedicate a credit card to only subscripti...\n",
       "3   LifeProTips  LPT: Like to have a flutter but gambling is to...\n",
       "4   LifeProTips  LPT: Enraged by RvW and feeling powerless? Con...\n",
       "5   LifeProTips  Enraged by RvW and feeling powerless? Consider...\n",
       "6   LifeProTips  LPT: Having frequent nightmares? Get a sleep s...\n",
       "7   LifeProTips  LPT: If you receive a coupon at a store, set a...\n",
       "8   LifeProTips  LPT: When writing a recipe either online or of...\n",
       "9   LifeProTips  LPT: If you live in a legal abortion state, or...\n",
       "10  LifeProTips                               clothes off for styx\n",
       "11  LifeProTips  When writing a recipe either online or offline...\n",
       "12  LifeProTips  LPT Request: need help making time around 12-h...\n",
       "13  LifeProTips  LPT: Gaining weight can make your birth contro...\n",
       "14  LifeProTips  LPT many crappers have “quick-release” feature...\n",
       "15  LifeProTips                           LPT: Assume karma exists\n",
       "16  LifeProTips  LPT Many toilet seats have a “quick-release” f...\n",
       "17  LifeProTips  LPT: Many toilets have a quick-release feature...\n",
       "18  LifeProTips  With the fall of Roe, you may consider looking...\n",
       "19  LifeProTips  LPT: If you are using Firefox on your smartpho..."
      ]
     },
     "execution_count": 6,
     "metadata": {},
     "output_type": "execute_result"
    }
   ],
   "source": [
    "df_lpt.head(20)"
   ]
  },
  {
   "cell_type": "code",
   "execution_count": 7,
   "id": "65ab113e-70f5-4ae0-8e62-4a1e682a9759",
   "metadata": {},
   "outputs": [
    {
     "data": {
      "text/html": [
       "<div>\n",
       "<style scoped>\n",
       "    .dataframe tbody tr th:only-of-type {\n",
       "        vertical-align: middle;\n",
       "    }\n",
       "\n",
       "    .dataframe tbody tr th {\n",
       "        vertical-align: top;\n",
       "    }\n",
       "\n",
       "    .dataframe thead th {\n",
       "        text-align: right;\n",
       "    }\n",
       "</style>\n",
       "<table border=\"1\" class=\"dataframe\">\n",
       "  <thead>\n",
       "    <tr style=\"text-align: right;\">\n",
       "      <th></th>\n",
       "      <th>subreddit</th>\n",
       "      <th>title</th>\n",
       "    </tr>\n",
       "  </thead>\n",
       "  <tbody>\n",
       "    <tr>\n",
       "      <th>0</th>\n",
       "      <td>ShittyLifeProTips</td>\n",
       "      <td>A tale as old as time</td>\n",
       "    </tr>\n",
       "    <tr>\n",
       "      <th>1</th>\n",
       "      <td>ShittyLifeProTips</td>\n",
       "      <td>At a large karaoke party, secretly request the...</td>\n",
       "    </tr>\n",
       "    <tr>\n",
       "      <th>2</th>\n",
       "      <td>ShittyLifeProTips</td>\n",
       "      <td>SLPT: Can't get an abortion?? Just take off yo...</td>\n",
       "    </tr>\n",
       "    <tr>\n",
       "      <th>3</th>\n",
       "      <td>ShittyLifeProTips</td>\n",
       "      <td>SLPT: hate your boss plant CP on his computer</td>\n",
       "    </tr>\n",
       "    <tr>\n",
       "      <th>4</th>\n",
       "      <td>ShittyLifeProTips</td>\n",
       "      <td>hate your boss plant CP on his computer</td>\n",
       "    </tr>\n",
       "    <tr>\n",
       "      <th>5</th>\n",
       "      <td>ShittyLifeProTips</td>\n",
       "      <td>I want the stick my tongue up in your ass hard...</td>\n",
       "    </tr>\n",
       "    <tr>\n",
       "      <th>6</th>\n",
       "      <td>ShittyLifeProTips</td>\n",
       "      <td>SLPT Get cheap gas</td>\n",
       "    </tr>\n",
       "    <tr>\n",
       "      <th>7</th>\n",
       "      <td>ShittyLifeProTips</td>\n",
       "      <td>Cheap gas trick</td>\n",
       "    </tr>\n",
       "    <tr>\n",
       "      <th>8</th>\n",
       "      <td>ShittyLifeProTips</td>\n",
       "      <td>Genius!</td>\n",
       "    </tr>\n",
       "    <tr>\n",
       "      <th>9</th>\n",
       "      <td>ShittyLifeProTips</td>\n",
       "      <td>Gorilla tape to cover holes when using chemica...</td>\n",
       "    </tr>\n",
       "    <tr>\n",
       "      <th>10</th>\n",
       "      <td>ShittyLifeProTips</td>\n",
       "      <td>SLPT: It's never too soon to start saving mone...</td>\n",
       "    </tr>\n",
       "    <tr>\n",
       "      <th>11</th>\n",
       "      <td>ShittyLifeProTips</td>\n",
       "      <td>LPT How to level blood sugar to improve diabet...</td>\n",
       "    </tr>\n",
       "    <tr>\n",
       "      <th>12</th>\n",
       "      <td>ShittyLifeProTips</td>\n",
       "      <td>How to level blood sugar to improve diabetes a...</td>\n",
       "    </tr>\n",
       "    <tr>\n",
       "      <th>13</th>\n",
       "      <td>ShittyLifeProTips</td>\n",
       "      <td>SLPT: If you're in the woods without mosquito ...</td>\n",
       "    </tr>\n",
       "    <tr>\n",
       "      <th>14</th>\n",
       "      <td>ShittyLifeProTips</td>\n",
       "      <td>SLPT: If you are not happy with Christians inf...</td>\n",
       "    </tr>\n",
       "    <tr>\n",
       "      <th>15</th>\n",
       "      <td>ShittyLifeProTips</td>\n",
       "      <td>If you are not happy with Christians influenci...</td>\n",
       "    </tr>\n",
       "    <tr>\n",
       "      <th>16</th>\n",
       "      <td>ShittyLifeProTips</td>\n",
       "      <td>SLPT: Hate it that you can't sort your feed on...</td>\n",
       "    </tr>\n",
       "    <tr>\n",
       "      <th>17</th>\n",
       "      <td>ShittyLifeProTips</td>\n",
       "      <td>SLPT: Fill your phone's gallery with gore vide...</td>\n",
       "    </tr>\n",
       "    <tr>\n",
       "      <th>18</th>\n",
       "      <td>ShittyLifeProTips</td>\n",
       "      <td>SPLT: Fill your phone's gallery with gore vide...</td>\n",
       "    </tr>\n",
       "    <tr>\n",
       "      <th>19</th>\n",
       "      <td>ShittyLifeProTips</td>\n",
       "      <td>LPT: Since Roe v Wade has been overturned, zyg...</td>\n",
       "    </tr>\n",
       "  </tbody>\n",
       "</table>\n",
       "</div>"
      ],
      "text/plain": [
       "            subreddit                                              title\n",
       "0   ShittyLifeProTips                              A tale as old as time\n",
       "1   ShittyLifeProTips  At a large karaoke party, secretly request the...\n",
       "2   ShittyLifeProTips  SLPT: Can't get an abortion?? Just take off yo...\n",
       "3   ShittyLifeProTips      SLPT: hate your boss plant CP on his computer\n",
       "4   ShittyLifeProTips            hate your boss plant CP on his computer\n",
       "5   ShittyLifeProTips  I want the stick my tongue up in your ass hard...\n",
       "6   ShittyLifeProTips                                 SLPT Get cheap gas\n",
       "7   ShittyLifeProTips                                    Cheap gas trick\n",
       "8   ShittyLifeProTips                                            Genius!\n",
       "9   ShittyLifeProTips  Gorilla tape to cover holes when using chemica...\n",
       "10  ShittyLifeProTips  SLPT: It's never too soon to start saving mone...\n",
       "11  ShittyLifeProTips  LPT How to level blood sugar to improve diabet...\n",
       "12  ShittyLifeProTips  How to level blood sugar to improve diabetes a...\n",
       "13  ShittyLifeProTips  SLPT: If you're in the woods without mosquito ...\n",
       "14  ShittyLifeProTips  SLPT: If you are not happy with Christians inf...\n",
       "15  ShittyLifeProTips  If you are not happy with Christians influenci...\n",
       "16  ShittyLifeProTips  SLPT: Hate it that you can't sort your feed on...\n",
       "17  ShittyLifeProTips  SLPT: Fill your phone's gallery with gore vide...\n",
       "18  ShittyLifeProTips  SPLT: Fill your phone's gallery with gore vide...\n",
       "19  ShittyLifeProTips  LPT: Since Roe v Wade has been overturned, zyg..."
      ]
     },
     "execution_count": 7,
     "metadata": {},
     "output_type": "execute_result"
    }
   ],
   "source": [
    "df_slpt.head(20)"
   ]
  },
  {
   "cell_type": "markdown",
   "id": "58d93fcf-0dd5-4a62-8d1c-af0ba6979cbd",
   "metadata": {},
   "source": [
    "There are two things to note:\n",
    "- Posts for these subreddits are supposed to begin with 'LPT' and 'SLPT'. We are building a model that will attempt to predict which subreddit a given post came from, so we will need to remove these starting letters so that the original subreddit is not so obvious to the model. I also noticed at least one typo of 'SPLT' in one of the first rows, so we will also remove that.\n",
    "- There are some duplicate posts in both subreddits. It also looks like some users might have posted an initial post and then edited that post by creating a new, similar post. Unfortunately 'drop_duplicates' will miss duplicate posts that are not identical to each other. However, a quick scan of the data set shows that this is not a very common occurrence, so we will have to leave these similar posts in and remove only identical duplicates."
   ]
  },
  {
   "cell_type": "code",
   "execution_count": 8,
   "id": "0d4bb417-f820-4884-9aa3-097a551eb2ed",
   "metadata": {},
   "outputs": [],
   "source": [
    "def replace_substring(column, substring_list, replacement):\n",
    "    '''\n",
    "    Function to replace every instance of a substring in a DataFrame column.\n",
    "    **************\n",
    "    Input params:\n",
    "    column: DataFrame column to replace.\n",
    "    substring_list: List of substrings to replace\n",
    "    replacement: String of text to replace substring\n",
    "    **************\n",
    "    '''\n",
    "    for word in substring_list:\n",
    "        df_slpt[column] = df_slpt[column].str.replace(word, replacement)\n",
    "        df_lpt[column] = df_lpt[column].str.replace(word, replacement)\n",
    "    return df_slpt, df_lpt"
   ]
  },
  {
   "cell_type": "markdown",
   "id": "1bef5df2-d0f9-4c99-bc4c-28eb72f1c376",
   "metadata": {},
   "source": [
    "We will use the above function to get rid of the beginning text of each title for these posts."
   ]
  },
  {
   "cell_type": "code",
   "execution_count": 9,
   "id": "443399b6-00e5-473c-a335-c68dc4f96053",
   "metadata": {},
   "outputs": [],
   "source": [
    "column = 'title'\n",
    "substring_list = ['SLPT', 'SPLT', 'LPT', ': ']\n",
    "replacement = ''\n",
    "\n",
    "replace_substring(column, substring_list, replacement);"
   ]
  },
  {
   "cell_type": "markdown",
   "id": "642c323f-5a1c-45f1-a53f-fe04f6eec2ab",
   "metadata": {},
   "source": [
    "Next, we will drop all identical duplicates from each DataFrame."
   ]
  },
  {
   "cell_type": "code",
   "execution_count": 10,
   "id": "4faea4ff-c666-46ef-bcaa-26d26127b6a3",
   "metadata": {},
   "outputs": [],
   "source": [
    "df_slpt.drop_duplicates(inplace=True)\n",
    "df_lpt.drop_duplicates(inplace=True)"
   ]
  },
  {
   "cell_type": "code",
   "execution_count": 11,
   "id": "ff9e0c5c-55ad-4857-a6a0-54216f0c8686",
   "metadata": {},
   "outputs": [
    {
     "name": "stdout",
     "output_type": "stream",
     "text": [
      "New LPT shape after duplicate removal: (20866, 2)\n",
      "New SLPT shape after duplicate removal: (10239, 2)\n"
     ]
    }
   ],
   "source": [
    "print(f'New LPT shape after duplicate removal: {df_lpt.shape}')\n",
    "print(f'New SLPT shape after duplicate removal: {df_slpt.shape}')"
   ]
  },
  {
   "cell_type": "markdown",
   "id": "073f2837-35aa-4e8e-97ee-9090dee86bbd",
   "metadata": {},
   "source": [
    "I guess there weren't as many duplicates in the r/LPT data as I thought! We will only save the first half of this for analysis, so that the sizes of each data set are similar. \n",
    "\n",
    "Finally, we will save these DataFrames to CSV files for further cleaning, preprocessing, and NLP modelling."
   ]
  },
  {
   "cell_type": "code",
   "execution_count": 20,
   "id": "511d5fbb-9a6a-4aeb-bf4f-ab104f94fa3d",
   "metadata": {},
   "outputs": [],
   "source": [
    "df_lpt_reduced = df_lpt.head(10433)"
   ]
  },
  {
   "cell_type": "code",
   "execution_count": 21,
   "id": "c4f46228-d133-4062-84e6-6ced9221718b",
   "metadata": {},
   "outputs": [
    {
     "data": {
      "text/plain": [
       "(10433, 2)"
      ]
     },
     "execution_count": 21,
     "metadata": {},
     "output_type": "execute_result"
    }
   ],
   "source": [
    "df_lpt_reduced.shape"
   ]
  },
  {
   "cell_type": "code",
   "execution_count": 22,
   "id": "6124892b-0e49-4c66-990e-ddb222265afe",
   "metadata": {},
   "outputs": [
    {
     "data": {
      "text/html": [
       "<div>\n",
       "<style scoped>\n",
       "    .dataframe tbody tr th:only-of-type {\n",
       "        vertical-align: middle;\n",
       "    }\n",
       "\n",
       "    .dataframe tbody tr th {\n",
       "        vertical-align: top;\n",
       "    }\n",
       "\n",
       "    .dataframe thead th {\n",
       "        text-align: right;\n",
       "    }\n",
       "</style>\n",
       "<table border=\"1\" class=\"dataframe\">\n",
       "  <thead>\n",
       "    <tr style=\"text-align: right;\">\n",
       "      <th></th>\n",
       "      <th>subreddit</th>\n",
       "      <th>title</th>\n",
       "    </tr>\n",
       "  </thead>\n",
       "  <tbody>\n",
       "    <tr>\n",
       "      <th>0</th>\n",
       "      <td>LifeProTips</td>\n",
       "      <td>If you are as outraged as I am about the overt...</td>\n",
       "    </tr>\n",
       "    <tr>\n",
       "      <th>1</th>\n",
       "      <td>LifeProTips</td>\n",
       "      <td>Doing things when you don't want to do them is...</td>\n",
       "    </tr>\n",
       "    <tr>\n",
       "      <th>2</th>\n",
       "      <td>LifeProTips</td>\n",
       "      <td>Dedicate a credit card to only subscription se...</td>\n",
       "    </tr>\n",
       "    <tr>\n",
       "      <th>3</th>\n",
       "      <td>LifeProTips</td>\n",
       "      <td>Like to have a flutter but gambling is too exp...</td>\n",
       "    </tr>\n",
       "    <tr>\n",
       "      <th>4</th>\n",
       "      <td>LifeProTips</td>\n",
       "      <td>Enraged by RvW and feeling powerless? Consider...</td>\n",
       "    </tr>\n",
       "  </tbody>\n",
       "</table>\n",
       "</div>"
      ],
      "text/plain": [
       "     subreddit                                              title\n",
       "0  LifeProTips  If you are as outraged as I am about the overt...\n",
       "1  LifeProTips  Doing things when you don't want to do them is...\n",
       "2  LifeProTips  Dedicate a credit card to only subscription se...\n",
       "3  LifeProTips  Like to have a flutter but gambling is too exp...\n",
       "4  LifeProTips  Enraged by RvW and feeling powerless? Consider..."
      ]
     },
     "execution_count": 22,
     "metadata": {},
     "output_type": "execute_result"
    }
   ],
   "source": [
    "df_lpt_reduced.head()"
   ]
  },
  {
   "cell_type": "code",
   "execution_count": 23,
   "id": "71776d08-56c7-4e8c-a946-cee277b575e3",
   "metadata": {},
   "outputs": [],
   "source": [
    "df_lpt_3.to_csv('data/lifeprotips.csv', index=False)\n",
    "df_slpt.to_csv('data/shittylifeprotips.csv', index=False)"
   ]
  }
 ],
 "metadata": {
  "kernelspec": {
   "display_name": "Python [conda env:dsi]",
   "language": "python",
   "name": "conda-env-dsi-py"
  },
  "language_info": {
   "codemirror_mode": {
    "name": "ipython",
    "version": 3
   },
   "file_extension": ".py",
   "mimetype": "text/x-python",
   "name": "python",
   "nbconvert_exporter": "python",
   "pygments_lexer": "ipython3",
   "version": "3.9.12"
  }
 },
 "nbformat": 4,
 "nbformat_minor": 5
}
